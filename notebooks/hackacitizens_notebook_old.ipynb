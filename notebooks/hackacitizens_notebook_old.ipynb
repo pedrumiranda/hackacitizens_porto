{
 "cells": [
  {
   "cell_type": "markdown",
   "metadata": {
    "id": "ak-TM5kLM0YB"
   },
   "source": [
    "# Hackacity 2024\n",
    "## [SOLUTION NAME]\n",
    "#### Team: Hackacitizens\n",
    "#### Authors:\n",
    "- *João Peixoto*\n",
    "- *José Cunha*\n",
    "- *Nuno Oliveira*\n",
    "- *Pedro Miranda*\n",
    "- *Sofia Malpique*"
   ]
  },
  {
   "cell_type": "markdown",
   "metadata": {
    "id": "fuJkqbcUOPJa"
   },
   "source": [
    "# Instructions\n",
    "- The purpose of this notebook is to provide a detailed description so that the technical and business jury can have an overview of the technical and non-technical aspects and how they interconnect.\n",
    "- To use the template, you must make a copy and fill in the team name and the challenge title.\n",
    "- The cells containing the instructions should be deleted, but all headers must be kept.\n",
    "- All technical information should be included in this report (e.g., code, queries, graphs, tools used, parameters, etc.). If necessary, additional files can be added to the OneDrive folder, with references to those files included in this report.\n",
    "\n",
    "# Tip\n",
    "- The technical and business jury will need to evaluate several notebooks, so it’s important to maintain a clear line of thought within the notebook without overloading it with too many similar graphs or visuals that do not add value to the work. On the other hand, it’s important to show that the work done is thorough.\n",
    "- Therefore, we recommend using the annex section to include code that was produced along with its description but might be unnecessary noise for the jury (e.g., tested models that didn’t work, EDA with very similar results between variables, etc.).\n"
   ]
  },
  {
   "cell_type": "code",
   "execution_count": 2,
   "metadata": {},
   "outputs": [],
   "source": [
    "import pandas as pd\n",
    "import os\n",
    "\n",
    "pd.set_option('display.max_columns', None)  # Show all columns\n",
    "pd.set_option('display.width', None)  # Prevent line wrapping"
   ]
  },
  {
   "cell_type": "code",
   "execution_count": null,
   "metadata": {},
   "outputs": [],
   "source": [
    "# Run a server to display the html contents: (local host:8000)\n",
    "!python -m http.server"
   ]
  },
  {
   "cell_type": "markdown",
   "metadata": {
    "id": "AmSKK17QObFI"
   },
   "source": [
    "# 1 - Introduction\n"
   ]
  },
  {
   "cell_type": "markdown",
   "metadata": {
    "id": "SVIARPpIP4Dh"
   },
   "source": [
    "### Instructions:\n",
    "Contextualization and explanation of the problem and the proposed solution. Should only contain text or text and images."
   ]
  },
  {
   "cell_type": "markdown",
   "metadata": {
    "id": "8lGPeW2xnJyI"
   },
   "source": []
  },
  {
   "cell_type": "markdown",
   "metadata": {
    "id": "N840E4RhPfC4"
   },
   "source": [
    "# 2 - Possible threat analysis before anonymization"
   ]
  },
  {
   "cell_type": "markdown",
   "metadata": {
    "id": "u0aqqeU_P4zo"
   },
   "source": [
    "### Instructions:\n",
    "This section should cover a threat analysis of the dataset from the privacy perspective and it's quantification.\n",
    "\n",
    "Important notes:\n",
    "- Only this section is evaluated for the data privacy award;\n",
    "- No code is needed for this section;\n",
    "- A good quantification of the threat is valuade by the jury;\n",
    "- Include any references that is important."
   ]
  },
  {
   "cell_type": "markdown",
   "metadata": {
    "id": "PFy53Uw5D-W-"
   },
   "source": [
    "## 2.1 - Access point\n",
    "\n",
    "| *Threat*               | *Description*                                                                                                                                                                            | *Privacy Risks*                                                                                                                                       | *Mitigation Measures*                                                                                         | *Risk Severity* | *Regulatory Impact*                             |\n",
    "|--------------------------|--------------------------------------------------------------------------------------------------------------------------------------------------------------------------------------------|----------------------------------------------------------------------------------------------------------------------------------------------------------|-----------------------------------------------------------------------------------------------------------------|-------------------|--------------------------------------------------|\n",
    "| *AP MAC Address Exposure* | Exposure of access point MAC addresses allows attackers to identify and target specific devices or mimic infrastructure.                                                                  | Spoofing Attacks, exploitation of known vulnerabilities from the manufacturer, Network Mapping, Credential-Based Attacks.                                                                             | - Hash or mask MAC addresses.<br>- Regularly update firmware to patch vulnerabilities.<br>- Encrypt MAC data.  | Medium            | Potential non-compliance with GDPR for exposing device identifiers. |\n",
    "| *Physical Access*       | Detailed device locations expose devices to physical tampering or theft.                                                                                                                | Compromise of physical security, unauthorized network access.                                                                                             | - Use tamper-proof casings.<br>- Restrict physical access to authorized personnel.<br>- Monitor access with surveillance or audits.                                | Low               | Limited regulatory implications, but operational risks. |\n",
    "\n",
    "\n",
    "## 2.2 - User Privacy Concerns\n",
    "\n",
    "| *Threat*               | *Description*                                                                                                                                                                            | *Privacy Risks*                                                                                                                                       | *Mitigation Measures*                                                                                         | *Risk Severity* | *Regulatory Impact*                             |\n",
    "|--------------------------|--------------------------------------------------------------------------------------------------------------------------------------------------------------------------------------------|----------------------------------------------------------------------------------------------------------------------------------------------------------|-----------------------------------------------------------------------------------------------------------------|-------------------|--------------------------------------------------|\n",
    "| *User Tracking*         | callingstationid, user mac address, enables long-term tracking when combined with time and location.                                                                                    | Profiling, identification, loss of privacy, and spear-phishing attacks.                                                                                   | - Rotate callingstationid hashes periodically.<br>- Minimize retention of detailed logs.<br>- Apply differential privacy to anonymize patterns.                       | High              | Violation of GDPR Article 5 (data minimization). |\n",
    "| *Upload Size Analysis*  | Attackers correlate upload size and social media activity to infer individual users' activities.                                                                                        | Breach of anonymity, targeted profiling, and social engineering attacks.                                                                                  | - Use k-anonymization to generalize the upload value.<br>- Aggregate upload/download metrics to obscure individual users.<br>- Limit granularity of session logs.         | Medium            | Breach of anonymity could trigger GDPR penalties. |\n",
    "| *Session Time Correlation* | Attackers cross-reference session times with external activity logs, inferring users’ identities.                                                                                      | User identification and profiling, leading to targeted attacks.                                                                                           | - Use k-anonymization to generalize the session time value.<br>- Aggregate session data.                          | Medium            | Violation of GDPR Article 32 (security of processing). |\n",
    "*Session start time* | Attackers cross-reference session start times with what they see in the in the access point zones. Start finding patterns of this user behaviour.                                                                                      | User identification and profiling, leading to targeted attacks.                                                                                           | - Use k-anonymization to generalize the session start time value.<br>- Aggregate session start time data.                          | Medium            | Violation of GDPR Article 32 (security of processing).\n",
    "\n",
    "\n",
    "**Note:** *For a future analysis, we would collect data to build a fair model for risk security (A fair model for risk security aims to provide a balanced and equitable approach to managing security risks, ensuring that the necessary measures are taken to protect sensitive information while considering both the potential impact of risks and the feasibility of mitigation. The key objective is to create a security framework that is fair to all stakeholders, such as users, organizations, and regulatory bodies, by addressing their concerns in an efficient, transparent, and legally compliant way). At the moment there is no way to implement this kind of solution because of the lack data we would implement this with more information and accordingly quantify the risk*"
   ]
  },
  {
   "cell_type": "markdown",
   "metadata": {
    "id": "txP36hXRPfQY"
   },
   "source": [
    "# 3 - Anonymization process"
   ]
  },
  {
   "cell_type": "markdown",
   "metadata": {
    "id": "U_tyZhtlsCK-"
   },
   "source": [
    "### Instructions\n",
    "\n",
    "Based on the previous threat assesment, propose any anonymization techniques you might find helpful.\n",
    "\n",
    "Include all the code and proof needed that the threat has been mitigated."
   ]
  },
  {
   "cell_type": "code",
   "execution_count": null,
   "metadata": {
    "id": "Kd0UcwTdW6LC"
   },
   "outputs": [],
   "source": []
  },
  {
   "cell_type": "markdown",
   "metadata": {
    "id": "74WGhLoRs7IM"
   },
   "source": [
    "# 4 - Possible threat analysis after anonymization"
   ]
  },
  {
   "cell_type": "markdown",
   "metadata": {},
   "source": [
    "## 4.1 - Access point\n",
    "\n",
    "| **Threat**               | **Description**                                                                                                                                                                            | **Risk analysis after solution**                                                                                                                                     \n",
    "|--------------------------|--------------------------------------------------------------------------------------------------------------------------------------------------------------------------------------------|--------------------------------------------------------------------------------------------------------------------------------------------------------------------|\n",
    "| *AP MAC Address Exposure* | Exposure of access point MAC addresses allows attackers to identify and target specific devices or mimic infrastructure.                                                                  | After encryption of the MAC Address with proper hashing and using a strong algorithm, it reduces the potential of the threat to almost none. The only risk is that we are using the same hash function for every MAC Address. This means that if there is a hack on the data of a single user, every other user is compromised. However, this is very unlikely. |\n",
    "| *Physical Access*        | Detailed device locations expose devices to physical tampering or theft.                                                                                                                | There is no change in risk before and after solution.                                                                                                                                                            |\n",
    "\n",
    "## 4.2 - User Privacy Concerns\n",
    "\n",
    "| **Threat**               | **Description**                                                                                                                                                                            | **Risk analysis after solution**                                                                                                                                     \n",
    "|--------------------------|--------------------------------------------------------------------------------------------------------------------------------------------------------------------------------------------|--------------------------------------------------------------------------------------------------------------------------------------------------------------------|\n",
    "| *User Tracking*          | Callingstationid, user MAC address, enables long-term tracking when combined with time and location.                                                                                        | Re-identification Risk: Even if the callingstationid is hashed or anonymized periodically, there is still a possibility that a determined adversary can correlate data across time (e.g., if logs are retained too long or if data is combined with other datasets). This is a risk because data leaks, breaches, or even re-identification techniques might expose the original identity of users. Mitigation: Implement more aggressive anonymization techniques, such as k-anonymity or l-diversity, to prevent the re-identification of individuals from log data. |\n",
    "| *Upload Size Analysis*   | Attackers correlate upload size and social media activity to infer individual users' activities.                                                                                        | Differential Privacy: <br> **What It Is:** Differential privacy adds controlled \"noise\" (random variation) to data to ensure that individual entries are not identifiable, even if an attacker has access to a large dataset. <br> **Why It Helps:** It guarantees that the removal or addition of any single data point doesn't significantly affect the overall results of data analysis, making it harder to isolate specific users. <br> **Example:** Instead of reporting precise upload sizes (even in ranges), you could add noise to these values, making it more difficult to draw conclusions about individual user behavior based solely on upload size. |\n",
    "| *Session Time Correlation* | Attackers cross-reference session times with external activity logs, inferring users’ identities.                                                                                      | User identification and profiling, leading to targeted attacks. <br> **Mitigation:** Use k-anonymization to generalize the session time value.<br> Aggregate session data. |\n",
    "| *Session Start Time*     | Attackers cross-reference session start times with what they see in the access point zones. They start finding patterns of this user behavior.                                                                                      | User identification and profiling, leading to targeted attacks. <br> **Mitigation:** Use k-anonymization to generalize the session start time value.<br> Aggregate session start time data. |\n"
   ]
  },
  {
   "cell_type": "markdown",
   "metadata": {
    "id": "YJwqR0RktCl_"
   },
   "source": [
    "# 5 - Data potential and analysis"
   ]
  },
  {
   "cell_type": "markdown",
   "metadata": {
    "id": "8UqIKQQctFqm"
   },
   "source": [
    "### Instructions\n",
    "\n",
    "It is typical that during an anonymization process, there is a loss of value in terms of insights. In this section, explore the other side of the scale - What can still be done with the data that is processed and why is the risk above justifiable taking into account the potential return?\n",
    "\n",
    "Specifically, try to imagine yourself as the city's analytics team, which uses this data to gather conclusions about the city's state and flow and try develop and demonstrate what results and analyses can be done. You can use the given data plus optionally any other data sources. If you complement with additional datasets, be it from the city Open Data Portal (https://opendata.porto.digital) or other datasets, make sure you cite and reference them explicitly.\n",
    "\n"
   ]
  },
  {
   "cell_type": "markdown",
   "metadata": {},
   "source": [
    "## 5.1 - Points of Interest"
   ]
  },
  {
   "cell_type": "markdown",
   "metadata": {},
   "source": [
    "Using the raw data provided by Porto Digital, we focused on 5 points of interest:\n",
    "* STCP routes: File with information regarding routes of the public transportation\n",
    "* STCP trips: File with information regarding trips made by public transports\n",
    "* STCP stops: File with geo localization information regarding stops (bus stops p.example)\n",
    "* STCP stop times: File with information regarding stop times (when it arrived, when it departed etc.)\n",
    "* STCP shapes: File with thegeographical layout of a transit route.\n"
   ]
  },
  {
   "cell_type": "markdown",
   "metadata": {},
   "source": [
    "This allows us to create a dedicated file with a combination of this information that we are going to use to infer and analyse on our processes. Example:"
   ]
  },
  {
   "cell_type": "code",
   "execution_count": 6,
   "metadata": {},
   "outputs": [],
   "source": [
    "import os\n",
    "from IPython.core.display import HTML\n",
    "os.chdir('C:/Users/CTW02967/Documents/GitHub/hackacitizens_2024')  # Change to root\n"
   ]
  },
  {
   "cell_type": "code",
   "execution_count": 7,
   "metadata": {
    "scrolled": true
   },
   "outputs": [
    {
     "data": {
      "text/html": [
       "<div>\n",
       "<style scoped>\n",
       "    .dataframe tbody tr th:only-of-type {\n",
       "        vertical-align: middle;\n",
       "    }\n",
       "\n",
       "    .dataframe tbody tr th {\n",
       "        vertical-align: top;\n",
       "    }\n",
       "\n",
       "    .dataframe thead th {\n",
       "        text-align: right;\n",
       "    }\n",
       "</style>\n",
       "<table border=\"1\" class=\"dataframe\">\n",
       "  <thead>\n",
       "    <tr style=\"text-align: right;\">\n",
       "      <th></th>\n",
       "      <th>route_id</th>\n",
       "      <th>direction_id</th>\n",
       "      <th>service_id</th>\n",
       "      <th>trip_id</th>\n",
       "      <th>trip_headsign</th>\n",
       "      <th>wheelchair_accessible</th>\n",
       "      <th>block_id</th>\n",
       "      <th>shape_id</th>\n",
       "      <th>arrival_time</th>\n",
       "      <th>departure_time</th>\n",
       "      <th>stop_id</th>\n",
       "      <th>stop_sequence</th>\n",
       "      <th>stop_headsign</th>\n",
       "      <th>stop_code</th>\n",
       "      <th>stop_name</th>\n",
       "      <th>stop_lat</th>\n",
       "      <th>stop_lon</th>\n",
       "      <th>zone_id</th>\n",
       "      <th>stop_url</th>\n",
       "    </tr>\n",
       "  </thead>\n",
       "  <tbody>\n",
       "    <tr>\n",
       "      <th>0</th>\n",
       "      <td>107</td>\n",
       "      <td>0</td>\n",
       "      <td>UTEIS</td>\n",
       "      <td>107_0_U_29</td>\n",
       "      <td>Areias</td>\n",
       "      <td>1</td>\n",
       "      <td>NaN</td>\n",
       "      <td>107_0_1_shp</td>\n",
       "      <td>20:20:00</td>\n",
       "      <td>20:20:00</td>\n",
       "      <td>AANT5</td>\n",
       "      <td>1</td>\n",
       "      <td>NaN</td>\n",
       "      <td>AANT5</td>\n",
       "      <td>ALAMEDA DAS ANTAS</td>\n",
       "      <td>41.163200</td>\n",
       "      <td>-8.583404</td>\n",
       "      <td>PRT1</td>\n",
       "      <td>http://www.stcp.pt/pt/viajar/paragens/?t=detal...</td>\n",
       "    </tr>\n",
       "    <tr>\n",
       "      <th>1</th>\n",
       "      <td>107</td>\n",
       "      <td>0</td>\n",
       "      <td>UTEIS</td>\n",
       "      <td>107_0_U_29</td>\n",
       "      <td>Areias</td>\n",
       "      <td>1</td>\n",
       "      <td>NaN</td>\n",
       "      <td>107_0_1_shp</td>\n",
       "      <td>20:22:10</td>\n",
       "      <td>20:22:10</td>\n",
       "      <td>EDRG1</td>\n",
       "      <td>2</td>\n",
       "      <td>NaN</td>\n",
       "      <td>EDRG1</td>\n",
       "      <td>ESTÁDIO DO DRAGÃO</td>\n",
       "      <td>41.160278</td>\n",
       "      <td>-8.583806</td>\n",
       "      <td>PRT1</td>\n",
       "      <td>http://www.stcp.pt/pt/viajar/paragens/?t=detal...</td>\n",
       "    </tr>\n",
       "    <tr>\n",
       "      <th>2</th>\n",
       "      <td>107</td>\n",
       "      <td>0</td>\n",
       "      <td>UTEIS</td>\n",
       "      <td>107_0_U_29</td>\n",
       "      <td>Areias</td>\n",
       "      <td>1</td>\n",
       "      <td>NaN</td>\n",
       "      <td>107_0_1_shp</td>\n",
       "      <td>20:23:40</td>\n",
       "      <td>20:23:40</td>\n",
       "      <td>CRJ1</td>\n",
       "      <td>3</td>\n",
       "      <td>NaN</td>\n",
       "      <td>CRJ1</td>\n",
       "      <td>CORUJEIRA</td>\n",
       "      <td>41.159285</td>\n",
       "      <td>-8.580922</td>\n",
       "      <td>PRT3</td>\n",
       "      <td>http://www.stcp.pt/pt/viajar/paragens/?t=detal...</td>\n",
       "    </tr>\n",
       "    <tr>\n",
       "      <th>3</th>\n",
       "      <td>107</td>\n",
       "      <td>0</td>\n",
       "      <td>UTEIS</td>\n",
       "      <td>107_0_U_29</td>\n",
       "      <td>Areias</td>\n",
       "      <td>1</td>\n",
       "      <td>NaN</td>\n",
       "      <td>107_0_1_shp</td>\n",
       "      <td>20:24:42</td>\n",
       "      <td>20:24:42</td>\n",
       "      <td>PCRJ1</td>\n",
       "      <td>4</td>\n",
       "      <td>NaN</td>\n",
       "      <td>PCRJ1</td>\n",
       "      <td>PR. DA CORUJEIRA</td>\n",
       "      <td>41.156919</td>\n",
       "      <td>-8.579865</td>\n",
       "      <td>PRT3</td>\n",
       "      <td>http://www.stcp.pt/pt/viajar/paragens/?t=detal...</td>\n",
       "    </tr>\n",
       "    <tr>\n",
       "      <th>4</th>\n",
       "      <td>107</td>\n",
       "      <td>0</td>\n",
       "      <td>UTEIS</td>\n",
       "      <td>107_0_U_29</td>\n",
       "      <td>Areias</td>\n",
       "      <td>1</td>\n",
       "      <td>NaN</td>\n",
       "      <td>107_0_1_shp</td>\n",
       "      <td>20:25:57</td>\n",
       "      <td>20:25:57</td>\n",
       "      <td>JFC</td>\n",
       "      <td>5</td>\n",
       "      <td>NaN</td>\n",
       "      <td>JFC</td>\n",
       "      <td>JUNTA FREG. CAMPANHÃ</td>\n",
       "      <td>41.158167</td>\n",
       "      <td>-8.578587</td>\n",
       "      <td>PRT3</td>\n",
       "      <td>http://www.stcp.pt/pt/viajar/paragens/?t=detal...</td>\n",
       "    </tr>\n",
       "  </tbody>\n",
       "</table>\n",
       "</div>"
      ],
      "text/plain": [
       "  route_id  direction_id service_id     trip_id trip_headsign  \\\n",
       "0      107             0      UTEIS  107_0_U_29        Areias   \n",
       "1      107             0      UTEIS  107_0_U_29        Areias   \n",
       "2      107             0      UTEIS  107_0_U_29        Areias   \n",
       "3      107             0      UTEIS  107_0_U_29        Areias   \n",
       "4      107             0      UTEIS  107_0_U_29        Areias   \n",
       "\n",
       "   wheelchair_accessible block_id     shape_id arrival_time departure_time  \\\n",
       "0                      1      NaN  107_0_1_shp     20:20:00       20:20:00   \n",
       "1                      1      NaN  107_0_1_shp     20:22:10       20:22:10   \n",
       "2                      1      NaN  107_0_1_shp     20:23:40       20:23:40   \n",
       "3                      1      NaN  107_0_1_shp     20:24:42       20:24:42   \n",
       "4                      1      NaN  107_0_1_shp     20:25:57       20:25:57   \n",
       "\n",
       "  stop_id  stop_sequence  stop_headsign stop_code             stop_name  \\\n",
       "0   AANT5              1            NaN     AANT5     ALAMEDA DAS ANTAS   \n",
       "1   EDRG1              2            NaN     EDRG1     ESTÁDIO DO DRAGÃO   \n",
       "2    CRJ1              3            NaN      CRJ1             CORUJEIRA   \n",
       "3   PCRJ1              4            NaN     PCRJ1      PR. DA CORUJEIRA   \n",
       "4     JFC              5            NaN       JFC  JUNTA FREG. CAMPANHÃ   \n",
       "\n",
       "    stop_lat  stop_lon zone_id  \\\n",
       "0  41.163200 -8.583404    PRT1   \n",
       "1  41.160278 -8.583806    PRT1   \n",
       "2  41.159285 -8.580922    PRT3   \n",
       "3  41.156919 -8.579865    PRT3   \n",
       "4  41.158167 -8.578587    PRT3   \n",
       "\n",
       "                                            stop_url  \n",
       "0  http://www.stcp.pt/pt/viajar/paragens/?t=detal...  \n",
       "1  http://www.stcp.pt/pt/viajar/paragens/?t=detal...  \n",
       "2  http://www.stcp.pt/pt/viajar/paragens/?t=detal...  \n",
       "3  http://www.stcp.pt/pt/viajar/paragens/?t=detal...  \n",
       "4  http://www.stcp.pt/pt/viajar/paragens/?t=detal...  "
      ]
     },
     "execution_count": 7,
     "metadata": {},
     "output_type": "execute_result"
    }
   ],
   "source": [
    "df = pd.read_csv('./datamesh/b_staging/datasets/stcp_routes_spatio_temporal.csv', low_memory=False)\n",
    "df.head()"
   ]
  },
  {
   "cell_type": "markdown",
   "metadata": {},
   "source": [
    "## 5.2 - Nearby Points of Interest"
   ]
  },
  {
   "cell_type": "markdown",
   "metadata": {},
   "source": [
    "Furthermore, we use 2 main files from *Google Maps API* that we base on to **calculate the Wi-fi hotspots that are nearby the Points of interest**\n",
    "* porto_city_main_institutions : File with data regarding the institutions (name,address,lat,long..)\n",
    "* porto_digital_wifi_hotspots: File with wi-fi hotspots data from Porto digital (address,hotspot,zone..)"
   ]
  },
  {
   "cell_type": "markdown",
   "metadata": {},
   "source": [
    "Here's an example of the generated data:"
   ]
  },
  {
   "cell_type": "code",
   "execution_count": 26,
   "metadata": {},
   "outputs": [
    {
     "data": {
      "text/html": [
       "<div>\n",
       "<style scoped>\n",
       "    .dataframe tbody tr th:only-of-type {\n",
       "        vertical-align: middle;\n",
       "    }\n",
       "\n",
       "    .dataframe tbody tr th {\n",
       "        vertical-align: top;\n",
       "    }\n",
       "\n",
       "    .dataframe thead th {\n",
       "        text-align: right;\n",
       "    }\n",
       "</style>\n",
       "<table border=\"1\" class=\"dataframe\">\n",
       "  <thead>\n",
       "    <tr style=\"text-align: right;\">\n",
       "      <th></th>\n",
       "      <th>MAC_ADDRESS</th>\n",
       "      <th>lat</th>\n",
       "      <th>lon</th>\n",
       "      <th>address</th>\n",
       "      <th>Hotspot</th>\n",
       "      <th>Zone</th>\n",
       "      <th>Parish</th>\n",
       "      <th>number_of_nearby_schools</th>\n",
       "      <th>closest_school_km</th>\n",
       "      <th>number_of_nearby_hospitals</th>\n",
       "      <th>closest_hospital_km</th>\n",
       "      <th>number_of_nearby_universitys</th>\n",
       "      <th>closest_university_km</th>\n",
       "      <th>number_of_nearby_public_offices</th>\n",
       "      <th>closest_public_office_km</th>\n",
       "      <th>number_of_nearby_tourist_attractions</th>\n",
       "      <th>closest_tourist_attraction_km</th>\n",
       "      <th>number_of_nearby_train_stations</th>\n",
       "      <th>closest_train_station_km</th>\n",
       "      <th>number_of_nearby_subway_stations</th>\n",
       "      <th>closest_subway_station_km</th>\n",
       "    </tr>\n",
       "  </thead>\n",
       "  <tbody>\n",
       "    <tr>\n",
       "      <th>0</th>\n",
       "      <td>48-8b-0a-7a-9a-60</td>\n",
       "      <td>41.146929</td>\n",
       "      <td>-8.632913</td>\n",
       "      <td>Museu C. Elétrico, 4050 Porto, Portugal</td>\n",
       "      <td>Alameda Basílio Teles - Rua de Dom Pedro V</td>\n",
       "      <td>Massarelos</td>\n",
       "      <td>Lordelo do Ouro e Massarelos</td>\n",
       "      <td>5</td>\n",
       "      <td>0.592650</td>\n",
       "      <td>23</td>\n",
       "      <td>0.658964</td>\n",
       "      <td>20</td>\n",
       "      <td>0.456864</td>\n",
       "      <td>0</td>\n",
       "      <td>1.151058</td>\n",
       "      <td>7</td>\n",
       "      <td>0.465160</td>\n",
       "      <td>0</td>\n",
       "      <td>1.588172</td>\n",
       "      <td>0</td>\n",
       "      <td>1.046631</td>\n",
       "    </tr>\n",
       "    <tr>\n",
       "      <th>1</th>\n",
       "      <td>a0-23-9f-ca-87-c0</td>\n",
       "      <td>41.149482</td>\n",
       "      <td>-8.610083</td>\n",
       "      <td>Av.aliados, 4000-125 Porto, Portugal</td>\n",
       "      <td>Aliados - Gabinete do Municipe</td>\n",
       "      <td>Trindade</td>\n",
       "      <td>Cedofeita, Santo Ildefonso, Sé, Miragaia, São ...</td>\n",
       "      <td>41</td>\n",
       "      <td>0.234685</td>\n",
       "      <td>28</td>\n",
       "      <td>0.238527</td>\n",
       "      <td>28</td>\n",
       "      <td>0.407480</td>\n",
       "      <td>55</td>\n",
       "      <td>0.020486</td>\n",
       "      <td>81</td>\n",
       "      <td>0.057663</td>\n",
       "      <td>67</td>\n",
       "      <td>0.123567</td>\n",
       "      <td>59</td>\n",
       "      <td>0.116824</td>\n",
       "    </tr>\n",
       "    <tr>\n",
       "      <th>2</th>\n",
       "      <td>a4-bd-c4-d0-61-00</td>\n",
       "      <td>41.147993</td>\n",
       "      <td>-8.611216</td>\n",
       "      <td>Av. dos Aliados 107, 4000-067 Porto, Portugal</td>\n",
       "      <td>Aliados - Rua Elísio de Melo</td>\n",
       "      <td>Santo Ildefonso</td>\n",
       "      <td>Cedofeita</td>\n",
       "      <td>36</td>\n",
       "      <td>0.251828</td>\n",
       "      <td>32</td>\n",
       "      <td>0.215924</td>\n",
       "      <td>27</td>\n",
       "      <td>0.295997</td>\n",
       "      <td>46</td>\n",
       "      <td>0.170341</td>\n",
       "      <td>101</td>\n",
       "      <td>0.048660</td>\n",
       "      <td>59</td>\n",
       "      <td>0.069103</td>\n",
       "      <td>49</td>\n",
       "      <td>0.069103</td>\n",
       "    </tr>\n",
       "    <tr>\n",
       "      <th>3</th>\n",
       "      <td>a4-bd-c4-d0-60-80</td>\n",
       "      <td>41.149080</td>\n",
       "      <td>-8.610600</td>\n",
       "      <td>Av. dos Aliados 236, 4000-114 Porto, Portugal</td>\n",
       "      <td>Aliados (Fonte dos Aliados)</td>\n",
       "      <td>Santo Ildefonso</td>\n",
       "      <td>Cedofeita</td>\n",
       "      <td>38</td>\n",
       "      <td>0.207945</td>\n",
       "      <td>34</td>\n",
       "      <td>0.288769</td>\n",
       "      <td>28</td>\n",
       "      <td>0.353824</td>\n",
       "      <td>48</td>\n",
       "      <td>0.042509</td>\n",
       "      <td>86</td>\n",
       "      <td>0.034239</td>\n",
       "      <td>63</td>\n",
       "      <td>0.062654</td>\n",
       "      <td>54</td>\n",
       "      <td>0.061666</td>\n",
       "    </tr>\n",
       "    <tr>\n",
       "      <th>4</th>\n",
       "      <td>a0-23-9f-94-a2-c0</td>\n",
       "      <td>41.177855</td>\n",
       "      <td>-8.595090</td>\n",
       "      <td>Pav. Desportivo Luís Falcão, 4200-465 Porto, P...</td>\n",
       "      <td>Asprela  - FEUP</td>\n",
       "      <td>Paranhos</td>\n",
       "      <td>Lamas</td>\n",
       "      <td>0</td>\n",
       "      <td>1.359096</td>\n",
       "      <td>8</td>\n",
       "      <td>0.327911</td>\n",
       "      <td>27</td>\n",
       "      <td>0.084433</td>\n",
       "      <td>2</td>\n",
       "      <td>0.059936</td>\n",
       "      <td>0</td>\n",
       "      <td>1.557766</td>\n",
       "      <td>0</td>\n",
       "      <td>1.956223</td>\n",
       "      <td>5</td>\n",
       "      <td>0.817976</td>\n",
       "    </tr>\n",
       "  </tbody>\n",
       "</table>\n",
       "</div>"
      ],
      "text/plain": [
       "         MAC_ADDRESS        lat       lon  \\\n",
       "0  48-8b-0a-7a-9a-60  41.146929 -8.632913   \n",
       "1  a0-23-9f-ca-87-c0  41.149482 -8.610083   \n",
       "2  a4-bd-c4-d0-61-00  41.147993 -8.611216   \n",
       "3  a4-bd-c4-d0-60-80  41.149080 -8.610600   \n",
       "4  a0-23-9f-94-a2-c0  41.177855 -8.595090   \n",
       "\n",
       "                                             address  \\\n",
       "0            Museu C. Elétrico, 4050 Porto, Portugal   \n",
       "1               Av.aliados, 4000-125 Porto, Portugal   \n",
       "2      Av. dos Aliados 107, 4000-067 Porto, Portugal   \n",
       "3      Av. dos Aliados 236, 4000-114 Porto, Portugal   \n",
       "4  Pav. Desportivo Luís Falcão, 4200-465 Porto, P...   \n",
       "\n",
       "                                      Hotspot             Zone  \\\n",
       "0  Alameda Basílio Teles - Rua de Dom Pedro V       Massarelos   \n",
       "1              Aliados - Gabinete do Municipe         Trindade   \n",
       "2                Aliados - Rua Elísio de Melo  Santo Ildefonso   \n",
       "3                 Aliados (Fonte dos Aliados)  Santo Ildefonso   \n",
       "4                             Asprela  - FEUP         Paranhos   \n",
       "\n",
       "                                              Parish  \\\n",
       "0                       Lordelo do Ouro e Massarelos   \n",
       "1  Cedofeita, Santo Ildefonso, Sé, Miragaia, São ...   \n",
       "2                                          Cedofeita   \n",
       "3                                          Cedofeita   \n",
       "4                                              Lamas   \n",
       "\n",
       "   number_of_nearby_schools  closest_school_km  number_of_nearby_hospitals  \\\n",
       "0                         5           0.592650                          23   \n",
       "1                        41           0.234685                          28   \n",
       "2                        36           0.251828                          32   \n",
       "3                        38           0.207945                          34   \n",
       "4                         0           1.359096                           8   \n",
       "\n",
       "   closest_hospital_km  number_of_nearby_universitys  closest_university_km  \\\n",
       "0             0.658964                            20               0.456864   \n",
       "1             0.238527                            28               0.407480   \n",
       "2             0.215924                            27               0.295997   \n",
       "3             0.288769                            28               0.353824   \n",
       "4             0.327911                            27               0.084433   \n",
       "\n",
       "   number_of_nearby_public_offices  closest_public_office_km  \\\n",
       "0                                0                  1.151058   \n",
       "1                               55                  0.020486   \n",
       "2                               46                  0.170341   \n",
       "3                               48                  0.042509   \n",
       "4                                2                  0.059936   \n",
       "\n",
       "   number_of_nearby_tourist_attractions  closest_tourist_attraction_km  \\\n",
       "0                                     7                       0.465160   \n",
       "1                                    81                       0.057663   \n",
       "2                                   101                       0.048660   \n",
       "3                                    86                       0.034239   \n",
       "4                                     0                       1.557766   \n",
       "\n",
       "   number_of_nearby_train_stations  closest_train_station_km  \\\n",
       "0                                0                  1.588172   \n",
       "1                               67                  0.123567   \n",
       "2                               59                  0.069103   \n",
       "3                               63                  0.062654   \n",
       "4                                0                  1.956223   \n",
       "\n",
       "   number_of_nearby_subway_stations  closest_subway_station_km  \n",
       "0                                 0                   1.046631  \n",
       "1                                59                   0.116824  \n",
       "2                                49                   0.069103  \n",
       "3                                54                   0.061666  \n",
       "4                                 5                   0.817976  "
      ]
     },
     "execution_count": 26,
     "metadata": {},
     "output_type": "execute_result"
    }
   ],
   "source": [
    "df = pd.read_json('./datamesh/c_features/datasets/porto_wifi_hotspots_nearby_poi.json')\n",
    "df.head()"
   ]
  },
  {
   "cell_type": "markdown",
   "metadata": {},
   "source": [
    "We also use the file generated on section 5.1 combined with the *porto_city_main_institutions* to **calculate the SCTP stops that are nearby the Points of interest**"
   ]
  },
  {
   "cell_type": "markdown",
   "metadata": {},
   "source": [
    "Here's an example of the generated data:"
   ]
  },
  {
   "cell_type": "code",
   "execution_count": 28,
   "metadata": {},
   "outputs": [
    {
     "data": {
      "text/html": [
       "<div>\n",
       "<style scoped>\n",
       "    .dataframe tbody tr th:only-of-type {\n",
       "        vertical-align: middle;\n",
       "    }\n",
       "\n",
       "    .dataframe tbody tr th {\n",
       "        vertical-align: top;\n",
       "    }\n",
       "\n",
       "    .dataframe thead th {\n",
       "        text-align: right;\n",
       "    }\n",
       "</style>\n",
       "<table border=\"1\" class=\"dataframe\">\n",
       "  <thead>\n",
       "    <tr style=\"text-align: right;\">\n",
       "      <th></th>\n",
       "      <th>stop_id</th>\n",
       "      <th>stop_name</th>\n",
       "      <th>lat</th>\n",
       "      <th>lon</th>\n",
       "      <th>neighborhood_name</th>\n",
       "      <th>number_of_nearby_schools</th>\n",
       "      <th>closest_school_km</th>\n",
       "      <th>number_of_nearby_hospitals</th>\n",
       "      <th>closest_hospital_km</th>\n",
       "      <th>number_of_nearby_universitys</th>\n",
       "      <th>closest_university_km</th>\n",
       "      <th>number_of_nearby_public_offices</th>\n",
       "      <th>closest_public_office_km</th>\n",
       "      <th>number_of_nearby_tourist_attractions</th>\n",
       "      <th>closest_tourist_attraction_km</th>\n",
       "      <th>number_of_nearby_train_stations</th>\n",
       "      <th>closest_train_station_km</th>\n",
       "      <th>number_of_nearby_subway_stations</th>\n",
       "      <th>closest_subway_station_km</th>\n",
       "    </tr>\n",
       "  </thead>\n",
       "  <tbody>\n",
       "    <tr>\n",
       "      <th>0</th>\n",
       "      <td>AANT5</td>\n",
       "      <td>ALAMEDA DAS ANTAS</td>\n",
       "      <td>41.163200</td>\n",
       "      <td>-8.583404</td>\n",
       "      <td>Campanhã</td>\n",
       "      <td>11</td>\n",
       "      <td>1.112788</td>\n",
       "      <td>6</td>\n",
       "      <td>0.313641</td>\n",
       "      <td>0</td>\n",
       "      <td>1.548288</td>\n",
       "      <td>3</td>\n",
       "      <td>0.502326</td>\n",
       "      <td>0</td>\n",
       "      <td>1.983624</td>\n",
       "      <td>10</td>\n",
       "      <td>0.992170</td>\n",
       "      <td>8</td>\n",
       "      <td>0.297165</td>\n",
       "    </tr>\n",
       "    <tr>\n",
       "      <th>1</th>\n",
       "      <td>EDRG1</td>\n",
       "      <td>ESTÁDIO DO DRAGÃO</td>\n",
       "      <td>41.160278</td>\n",
       "      <td>-8.583806</td>\n",
       "      <td>Campanhã</td>\n",
       "      <td>12</td>\n",
       "      <td>0.963362</td>\n",
       "      <td>7</td>\n",
       "      <td>0.117084</td>\n",
       "      <td>0</td>\n",
       "      <td>1.574076</td>\n",
       "      <td>6</td>\n",
       "      <td>0.659874</td>\n",
       "      <td>0</td>\n",
       "      <td>1.800641</td>\n",
       "      <td>19</td>\n",
       "      <td>0.906405</td>\n",
       "      <td>10</td>\n",
       "      <td>0.129556</td>\n",
       "    </tr>\n",
       "    <tr>\n",
       "      <th>2</th>\n",
       "      <td>CRJ1</td>\n",
       "      <td>CORUJEIRA</td>\n",
       "      <td>41.159285</td>\n",
       "      <td>-8.580922</td>\n",
       "      <td>Campanhã</td>\n",
       "      <td>8</td>\n",
       "      <td>1.129038</td>\n",
       "      <td>7</td>\n",
       "      <td>0.382527</td>\n",
       "      <td>0</td>\n",
       "      <td>1.837250</td>\n",
       "      <td>6</td>\n",
       "      <td>0.919701</td>\n",
       "      <td>0</td>\n",
       "      <td>1.986427</td>\n",
       "      <td>17</td>\n",
       "      <td>0.811824</td>\n",
       "      <td>6</td>\n",
       "      <td>0.192766</td>\n",
       "    </tr>\n",
       "    <tr>\n",
       "      <th>3</th>\n",
       "      <td>PCRJ1</td>\n",
       "      <td>PR. DA CORUJEIRA</td>\n",
       "      <td>41.156919</td>\n",
       "      <td>-8.579865</td>\n",
       "      <td>Campanhã</td>\n",
       "      <td>8</td>\n",
       "      <td>1.022547</td>\n",
       "      <td>6</td>\n",
       "      <td>0.605787</td>\n",
       "      <td>0</td>\n",
       "      <td>1.906887</td>\n",
       "      <td>6</td>\n",
       "      <td>1.096368</td>\n",
       "      <td>0</td>\n",
       "      <td>2.007576</td>\n",
       "      <td>19</td>\n",
       "      <td>0.590985</td>\n",
       "      <td>8</td>\n",
       "      <td>0.463733</td>\n",
       "    </tr>\n",
       "    <tr>\n",
       "      <th>4</th>\n",
       "      <td>JFC</td>\n",
       "      <td>JUNTA FREG. CAMPANHÃ</td>\n",
       "      <td>41.158167</td>\n",
       "      <td>-8.578587</td>\n",
       "      <td>Campanhã</td>\n",
       "      <td>4</td>\n",
       "      <td>1.190231</td>\n",
       "      <td>5</td>\n",
       "      <td>0.612591</td>\n",
       "      <td>0</td>\n",
       "      <td>2.061983</td>\n",
       "      <td>5</td>\n",
       "      <td>1.142365</td>\n",
       "      <td>0</td>\n",
       "      <td>2.140804</td>\n",
       "      <td>17</td>\n",
       "      <td>0.763487</td>\n",
       "      <td>6</td>\n",
       "      <td>0.418287</td>\n",
       "    </tr>\n",
       "  </tbody>\n",
       "</table>\n",
       "</div>"
      ],
      "text/plain": [
       "  stop_id             stop_name        lat       lon neighborhood_name  \\\n",
       "0   AANT5     ALAMEDA DAS ANTAS  41.163200 -8.583404          Campanhã   \n",
       "1   EDRG1     ESTÁDIO DO DRAGÃO  41.160278 -8.583806          Campanhã   \n",
       "2    CRJ1             CORUJEIRA  41.159285 -8.580922          Campanhã   \n",
       "3   PCRJ1      PR. DA CORUJEIRA  41.156919 -8.579865          Campanhã   \n",
       "4     JFC  JUNTA FREG. CAMPANHÃ  41.158167 -8.578587          Campanhã   \n",
       "\n",
       "   number_of_nearby_schools  closest_school_km  number_of_nearby_hospitals  \\\n",
       "0                        11           1.112788                           6   \n",
       "1                        12           0.963362                           7   \n",
       "2                         8           1.129038                           7   \n",
       "3                         8           1.022547                           6   \n",
       "4                         4           1.190231                           5   \n",
       "\n",
       "   closest_hospital_km  number_of_nearby_universitys  closest_university_km  \\\n",
       "0             0.313641                             0               1.548288   \n",
       "1             0.117084                             0               1.574076   \n",
       "2             0.382527                             0               1.837250   \n",
       "3             0.605787                             0               1.906887   \n",
       "4             0.612591                             0               2.061983   \n",
       "\n",
       "   number_of_nearby_public_offices  closest_public_office_km  \\\n",
       "0                                3                  0.502326   \n",
       "1                                6                  0.659874   \n",
       "2                                6                  0.919701   \n",
       "3                                6                  1.096368   \n",
       "4                                5                  1.142365   \n",
       "\n",
       "   number_of_nearby_tourist_attractions  closest_tourist_attraction_km  \\\n",
       "0                                     0                       1.983624   \n",
       "1                                     0                       1.800641   \n",
       "2                                     0                       1.986427   \n",
       "3                                     0                       2.007576   \n",
       "4                                     0                       2.140804   \n",
       "\n",
       "   number_of_nearby_train_stations  closest_train_station_km  \\\n",
       "0                               10                  0.992170   \n",
       "1                               19                  0.906405   \n",
       "2                               17                  0.811824   \n",
       "3                               19                  0.590985   \n",
       "4                               17                  0.763487   \n",
       "\n",
       "   number_of_nearby_subway_stations  closest_subway_station_km  \n",
       "0                                 8                   0.297165  \n",
       "1                                10                   0.129556  \n",
       "2                                 6                   0.192766  \n",
       "3                                 8                   0.463733  \n",
       "4                                 6                   0.418287  "
      ]
     },
     "execution_count": 28,
     "metadata": {},
     "output_type": "execute_result"
    }
   ],
   "source": [
    "df = pd.read_json('./datamesh/c_features/datasets/stcp_stops_nearby_poi.json')\n",
    "df.head()"
   ]
  },
  {
   "cell_type": "markdown",
   "metadata": {},
   "source": [
    "## 5.3 - Hourly metric"
   ]
  },
  {
   "cell_type": "markdown",
   "metadata": {},
   "source": [
    "One of the metrics that we focused is to check the hourly Wi-fi access per hotspot and bus stop trips. This is aimed to calculate the mobility index/indicator which is a measure used to assess the efficiency and sustainability of transportation and to infere a mobility score (0-100) based on these 2 predicaments."
   ]
  },
  {
   "cell_type": "markdown",
   "metadata": {},
   "source": [
    "**Here's the generated data for the Wi-fi access per hotspot in a hourly fashion**"
   ]
  },
  {
   "cell_type": "code",
   "execution_count": 8,
   "metadata": {},
   "outputs": [
    {
     "data": {
      "text/html": [
       "<div>\n",
       "<style scoped>\n",
       "    .dataframe tbody tr th:only-of-type {\n",
       "        vertical-align: middle;\n",
       "    }\n",
       "\n",
       "    .dataframe tbody tr th {\n",
       "        vertical-align: top;\n",
       "    }\n",
       "\n",
       "    .dataframe thead th {\n",
       "        text-align: right;\n",
       "    }\n",
       "</style>\n",
       "<table border=\"1\" class=\"dataframe\">\n",
       "  <thead>\n",
       "    <tr style=\"text-align: right;\">\n",
       "      <th></th>\n",
       "      <th>MAC_ADDRESS</th>\n",
       "      <th>lat</th>\n",
       "      <th>lon</th>\n",
       "      <th>address</th>\n",
       "      <th>date</th>\n",
       "      <th>hour_slice</th>\n",
       "      <th>number_of_sessions_per_hour</th>\n",
       "    </tr>\n",
       "  </thead>\n",
       "  <tbody>\n",
       "    <tr>\n",
       "      <th>0</th>\n",
       "      <td>NaN</td>\n",
       "      <td>41.155923</td>\n",
       "      <td>-8.68099</td>\n",
       "      <td>Av. do Brasil 432, 4150-153 Porto, Portugal</td>\n",
       "      <td>2024-10-22</td>\n",
       "      <td>13:00–13:59</td>\n",
       "      <td>97</td>\n",
       "    </tr>\n",
       "    <tr>\n",
       "      <th>1</th>\n",
       "      <td>NaN</td>\n",
       "      <td>NaN</td>\n",
       "      <td>NaN</td>\n",
       "      <td>NaN</td>\n",
       "      <td>2024-01-25</td>\n",
       "      <td>22:00–22:59</td>\n",
       "      <td>89</td>\n",
       "    </tr>\n",
       "    <tr>\n",
       "      <th>2</th>\n",
       "      <td>NaN</td>\n",
       "      <td>NaN</td>\n",
       "      <td>NaN</td>\n",
       "      <td>NaN</td>\n",
       "      <td>2024-07-23</td>\n",
       "      <td>03:00–03:59</td>\n",
       "      <td>104</td>\n",
       "    </tr>\n",
       "    <tr>\n",
       "      <th>3</th>\n",
       "      <td>NaN</td>\n",
       "      <td>NaN</td>\n",
       "      <td>NaN</td>\n",
       "      <td>NaN</td>\n",
       "      <td>2024-11-06</td>\n",
       "      <td>22:00–22:59</td>\n",
       "      <td>95</td>\n",
       "    </tr>\n",
       "    <tr>\n",
       "      <th>4</th>\n",
       "      <td>NaN</td>\n",
       "      <td>41.155923</td>\n",
       "      <td>-8.68099</td>\n",
       "      <td>Av. do Brasil 432, 4150-153 Porto, Portugal</td>\n",
       "      <td>2024-02-21</td>\n",
       "      <td>22:00–22:59</td>\n",
       "      <td>142</td>\n",
       "    </tr>\n",
       "  </tbody>\n",
       "</table>\n",
       "</div>"
      ],
      "text/plain": [
       "   MAC_ADDRESS        lat      lon  \\\n",
       "0          NaN  41.155923 -8.68099   \n",
       "1          NaN        NaN      NaN   \n",
       "2          NaN        NaN      NaN   \n",
       "3          NaN        NaN      NaN   \n",
       "4          NaN  41.155923 -8.68099   \n",
       "\n",
       "                                       address        date   hour_slice  \\\n",
       "0  Av. do Brasil 432, 4150-153 Porto, Portugal  2024-10-22  13:00–13:59   \n",
       "1                                          NaN  2024-01-25  22:00–22:59   \n",
       "2                                          NaN  2024-07-23  03:00–03:59   \n",
       "3                                          NaN  2024-11-06  22:00–22:59   \n",
       "4  Av. do Brasil 432, 4150-153 Porto, Portugal  2024-02-21  22:00–22:59   \n",
       "\n",
       "   number_of_sessions_per_hour  \n",
       "0                           97  \n",
       "1                           89  \n",
       "2                          104  \n",
       "3                           95  \n",
       "4                          142  "
      ]
     },
     "execution_count": 8,
     "metadata": {},
     "output_type": "execute_result"
    }
   ],
   "source": [
    "df = pd.read_csv('./datamesh/c_features/datasets/porto_wifi_access_per_hotspot_hourly.csv')\n",
    "df.head()"
   ]
  },
  {
   "cell_type": "markdown",
   "metadata": {},
   "source": [
    "**Here's the generated data for the Bus stops trips in a hourly fashion**"
   ]
  },
  {
   "cell_type": "code",
   "execution_count": 10,
   "metadata": {},
   "outputs": [
    {
     "data": {
      "text/html": [
       "<div>\n",
       "<style scoped>\n",
       "    .dataframe tbody tr th:only-of-type {\n",
       "        vertical-align: middle;\n",
       "    }\n",
       "\n",
       "    .dataframe tbody tr th {\n",
       "        vertical-align: top;\n",
       "    }\n",
       "\n",
       "    .dataframe thead th {\n",
       "        text-align: right;\n",
       "    }\n",
       "</style>\n",
       "<table border=\"1\" class=\"dataframe\">\n",
       "  <thead>\n",
       "    <tr style=\"text-align: right;\">\n",
       "      <th></th>\n",
       "      <th>stop_id</th>\n",
       "      <th>service_id</th>\n",
       "      <th>hourly_slice</th>\n",
       "      <th>stop_lat</th>\n",
       "      <th>stop_lon</th>\n",
       "      <th>stop_name</th>\n",
       "      <th>distinct_trip_count</th>\n",
       "    </tr>\n",
       "  </thead>\n",
       "  <tbody>\n",
       "    <tr>\n",
       "      <th>0</th>\n",
       "      <td>.</td>\n",
       "      <td>DOM</td>\n",
       "      <td>06:00-06:59</td>\n",
       "      <td>41.254116</td>\n",
       "      <td>-8.653726</td>\n",
       "      <td>.</td>\n",
       "      <td>1</td>\n",
       "    </tr>\n",
       "    <tr>\n",
       "      <th>1</th>\n",
       "      <td>.</td>\n",
       "      <td>DOM</td>\n",
       "      <td>07:00-07:59</td>\n",
       "      <td>41.254116</td>\n",
       "      <td>-8.653726</td>\n",
       "      <td>.</td>\n",
       "      <td>1</td>\n",
       "    </tr>\n",
       "    <tr>\n",
       "      <th>2</th>\n",
       "      <td>.</td>\n",
       "      <td>DOM</td>\n",
       "      <td>08:00-08:59</td>\n",
       "      <td>41.254116</td>\n",
       "      <td>-8.653726</td>\n",
       "      <td>.</td>\n",
       "      <td>1</td>\n",
       "    </tr>\n",
       "    <tr>\n",
       "      <th>3</th>\n",
       "      <td>.</td>\n",
       "      <td>DOM</td>\n",
       "      <td>09:00-09:59</td>\n",
       "      <td>41.254116</td>\n",
       "      <td>-8.653726</td>\n",
       "      <td>.</td>\n",
       "      <td>2</td>\n",
       "    </tr>\n",
       "    <tr>\n",
       "      <th>4</th>\n",
       "      <td>.</td>\n",
       "      <td>DOM</td>\n",
       "      <td>10:00-10:59</td>\n",
       "      <td>41.254116</td>\n",
       "      <td>-8.653726</td>\n",
       "      <td>.</td>\n",
       "      <td>1</td>\n",
       "    </tr>\n",
       "  </tbody>\n",
       "</table>\n",
       "</div>"
      ],
      "text/plain": [
       "  stop_id service_id hourly_slice   stop_lat  stop_lon stop_name  \\\n",
       "0       .        DOM  06:00-06:59  41.254116 -8.653726         .   \n",
       "1       .        DOM  07:00-07:59  41.254116 -8.653726         .   \n",
       "2       .        DOM  08:00-08:59  41.254116 -8.653726         .   \n",
       "3       .        DOM  09:00-09:59  41.254116 -8.653726         .   \n",
       "4       .        DOM  10:00-10:59  41.254116 -8.653726         .   \n",
       "\n",
       "   distinct_trip_count  \n",
       "0                    1  \n",
       "1                    1  \n",
       "2                    1  \n",
       "3                    2  \n",
       "4                    1  "
      ]
     },
     "execution_count": 10,
     "metadata": {},
     "output_type": "execute_result"
    }
   ],
   "source": [
    "df = pd.read_csv('./datamesh/c_features/datasets/sctp_bus_stops_trips_hourly.csv')\n",
    "df.head()"
   ]
  },
  {
   "cell_type": "markdown",
   "metadata": {},
   "source": [
    "## 5.4 - Visualization analysis"
   ]
  },
  {
   "cell_type": "markdown",
   "metadata": {},
   "source": [
    "### 5.4.1 - Visualization of different POI based in heatmap from Wi-fi access"
   ]
  },
  {
   "cell_type": "markdown",
   "metadata": {},
   "source": [
    "This visualization aims to show the critical points of interest based on wifi-access data. (ideas on what we could achieve here)"
   ]
  },
  {
   "cell_type": "code",
   "execution_count": 12,
   "metadata": {},
   "outputs": [
    {
     "data": {
      "text/html": [
       "\n",
       "        <iframe\n",
       "            width=\"1200\"\n",
       "            height=\"1200\"\n",
       "            src=\"http://localhost:8000/datamesh/e_presentation/dashboards/factory/html/map_porto_wifi_heatmap_poi.html\"\n",
       "            frameborder=\"0\"\n",
       "            allowfullscreen\n",
       "            \n",
       "        ></iframe>\n",
       "        "
      ],
      "text/plain": [
       "<IPython.lib.display.IFrame at 0x1e02b2288d0>"
      ]
     },
     "metadata": {},
     "output_type": "display_data"
    }
   ],
   "source": [
    "from IPython.display import IFrame\n",
    "\n",
    "# URL to the HTML file served by the local server\n",
    "url = \"http://localhost:8000/datamesh/e_presentation/dashboards/factory/html/map_porto_wifi_heatmap_poi.html\"\n",
    "\n",
    "# Embed the HTML file\n",
    "display(IFrame(url, width=1200, height=1200))\n",
    "\n"
   ]
  },
  {
   "cell_type": "markdown",
   "metadata": {
    "id": "yUjrNftxPf4r"
   },
   "source": [
    "# 6 - Conclusions and Future Work\n"
   ]
  },
  {
   "cell_type": "markdown",
   "metadata": {
    "id": "LM9AxU0qP7iA"
   },
   "source": [
    "### Instructions:\n",
    "\n",
    "List the main conclusions focusing on the feasibility, innovation, and applicability of the solution.\n",
    "\n",
    "In addition, describe the future work still necessary if this solution were to continue: What would the next steps be? What limitations do the data have for implementing the solution? How can the data be improved? How could this solution be improved? What other ideas could be included/analyzed? What other types of data could be used? What other methodologies could be experimented with?"
   ]
  },
  {
   "cell_type": "markdown",
   "metadata": {
    "id": "5-mmomkCPf_J"
   },
   "source": [
    "# 7 - References"
   ]
  },
  {
   "cell_type": "markdown",
   "metadata": {
    "id": "_I43QybAP7_3"
   },
   "source": [
    "### Instructions:\n",
    "\n",
    "Provide the relevant references for materials and/or sources used (reports, articles, external data sources, etc.).\n"
   ]
  },
  {
   "cell_type": "markdown",
   "metadata": {
    "id": "0BfqjXJbEFgA"
   },
   "source": []
  },
  {
   "cell_type": "markdown",
   "metadata": {
    "id": "2-hagKyQC62b"
   },
   "source": [
    "# 8 - Annex"
   ]
  },
  {
   "cell_type": "markdown",
   "metadata": {
    "id": "3vbISKe1EH6t"
   },
   "source": []
  }
 ],
 "metadata": {
  "colab": {
   "provenance": []
  },
  "kernelspec": {
   "display_name": "Python 3 (ipykernel)",
   "language": "python",
   "name": "python3"
  },
  "language_info": {
   "codemirror_mode": {
    "name": "ipython",
    "version": 3
   },
   "file_extension": ".py",
   "mimetype": "text/x-python",
   "name": "python",
   "nbconvert_exporter": "python",
   "pygments_lexer": "ipython3",
   "version": "3.11.3"
  }
 },
 "nbformat": 4,
 "nbformat_minor": 4
}
